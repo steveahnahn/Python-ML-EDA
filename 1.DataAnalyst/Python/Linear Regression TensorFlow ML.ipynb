{
 "cells": [
  {
   "cell_type": "code",
   "execution_count": 1,
   "metadata": {},
   "outputs": [
    {
     "name": "stderr",
     "output_type": "stream",
     "text": [
      "/anaconda3/lib/python3.6/site-packages/h5py/__init__.py:36: FutureWarning: Conversion of the second argument of issubdtype from `float` to `np.floating` is deprecated. In future, it will be treated as `np.float64 == np.dtype(float).type`.\n",
      "  from ._conv import register_converters as _register_converters\n"
     ]
    }
   ],
   "source": [
    "import numpy as np\n",
    "import matplotlib.pyplot as plt\n",
    "import tensorflow as tf"
   ]
  },
  {
   "cell_type": "code",
   "execution_count": 2,
   "metadata": {},
   "outputs": [],
   "source": [
    "observations = 1000\n",
    "\n",
    "xs = np.random.uniform(low = - 10, high = 10, size = (observations,1))\n",
    "zs = np.random.uniform(low = -10, high = 10, size = (observations,1))\n",
    "\n",
    "generated_inputs = np.column_stack((xs,zs))\n",
    "noise = np.random.uniform(-1,1,(observations,1))\n",
    "\n",
    "generated_targets = 2*xs - 3*zs + 5 + noise\n",
    "\n",
    "#saving it in tensor format\n",
    "np.savez('TF_intro', inputs = generated_inputs, target = generated_targets)"
   ]
  },
  {
   "cell_type": "markdown",
   "metadata": {},
   "source": [
    "Solving with tensorflow"
   ]
  },
  {
   "cell_type": "code",
   "execution_count": 3,
   "metadata": {},
   "outputs": [],
   "source": [
    "input_size = 2\n",
    "output_size = 1"
   ]
  },
  {
   "cell_type": "markdown",
   "metadata": {},
   "source": [
    "Outlining the Model"
   ]
  },
  {
   "cell_type": "code",
   "execution_count": 6,
   "metadata": {},
   "outputs": [
    {
     "name": "stdout",
     "output_type": "stream",
     "text": [
      "WARNING:tensorflow:From /anaconda3/lib/python3.6/site-packages/tensorflow/python/framework/op_def_library.py:263: colocate_with (from tensorflow.python.framework.ops) is deprecated and will be removed in a future version.\n",
      "Instructions for updating:\n",
      "Colocations handled automatically by placer.\n"
     ]
    }
   ],
   "source": [
    "#tensorflow format 3D matrix\n",
    "inputs = tf.placeholder(tf.float32,[None, input_size])\n",
    "targets = tf.placeholder(tf.float32,[None, output_size])\n",
    "\n",
    "weights = tf.Variable(tf.random.uniform([input_size, output_size], minval = -.01, maxval = 0.1))\n",
    "biases = tf.Variable(tf.random.uniform([output_size], minval = -0.1, maxval = 0.1))\n",
    "\n",
    "outputs = tf.matmul(inputs,weights) + biases"
   ]
  },
  {
   "cell_type": "markdown",
   "metadata": {},
   "source": [
    "Choosing the objective function and optimization"
   ]
  },
  {
   "cell_type": "code",
   "execution_count": 8,
   "metadata": {},
   "outputs": [],
   "source": [
    "mean_loss = tf.losses.mean_squared_error(labels = targets, predictions = outputs) / 2. #average L2norm loss function\n",
    "\n",
    "optimizer = tf.train.GradientDescentOptimizer(learning_rate = 0.05).minimize(mean_loss) #optimize and minimize"
   ]
  },
  {
   "cell_type": "code",
   "execution_count": 9,
   "metadata": {},
   "outputs": [],
   "source": [
    "sess = tf.InteractiveSession()"
   ]
  },
  {
   "cell_type": "markdown",
   "metadata": {},
   "source": [
    "Initializing Variablesr"
   ]
  },
  {
   "cell_type": "code",
   "execution_count": 10,
   "metadata": {},
   "outputs": [],
   "source": [
    "initializer = tf.global_variables_initializer()\n",
    "\n",
    "sess.run(initializer)"
   ]
  },
  {
   "cell_type": "markdown",
   "metadata": {},
   "source": [
    "Load training data"
   ]
  },
  {
   "cell_type": "code",
   "execution_count": 11,
   "metadata": {},
   "outputs": [],
   "source": [
    "training_data = np.load('TF_intro.npz')"
   ]
  },
  {
   "cell_type": "markdown",
   "metadata": {},
   "source": [
    "Learning"
   ]
  },
  {
   "cell_type": "code",
   "execution_count": 14,
   "metadata": {
    "scrolled": true
   },
   "outputs": [
    {
     "name": "stdout",
     "output_type": "stream",
     "text": [
      "0.17614746\n",
      "0.17610404\n",
      "0.17606485\n",
      "0.17602937\n",
      "0.1759975\n",
      "0.17596866\n",
      "0.17594263\n",
      "0.17591919\n",
      "0.17589797\n",
      "0.17587887\n",
      "0.17586157\n",
      "0.175846\n",
      "0.17583191\n",
      "0.1758192\n",
      "0.17580777\n",
      "0.17579745\n",
      "0.17578812\n",
      "0.17577973\n",
      "0.1757721\n",
      "0.17576526\n",
      "0.17575905\n",
      "0.17575344\n",
      "0.17574841\n",
      "0.17574386\n",
      "0.17573969\n",
      "0.175736\n",
      "0.17573269\n",
      "0.17572962\n",
      "0.17572694\n",
      "0.17572452\n",
      "0.1757222\n",
      "0.17572019\n",
      "0.17571844\n",
      "0.17571683\n",
      "0.17571533\n",
      "0.17571396\n",
      "0.17571276\n",
      "0.17571166\n",
      "0.17571072\n",
      "0.17570983\n",
      "0.17570901\n",
      "0.17570828\n",
      "0.17570758\n",
      "0.17570707\n",
      "0.17570657\n",
      "0.17570609\n",
      "0.17570566\n",
      "0.17570525\n",
      "0.17570491\n",
      "0.17570452\n",
      "0.17570429\n",
      "0.17570402\n",
      "0.17570378\n",
      "0.17570359\n",
      "0.17570344\n",
      "0.17570323\n",
      "0.17570308\n",
      "0.17570294\n",
      "0.17570285\n",
      "0.17570269\n",
      "0.17570257\n",
      "0.17570248\n",
      "0.17570242\n",
      "0.17570233\n",
      "0.17570227\n",
      "0.17570221\n",
      "0.17570217\n",
      "0.17570208\n",
      "0.17570205\n",
      "0.17570208\n",
      "0.17570202\n",
      "0.17570193\n",
      "0.1757019\n",
      "0.17570184\n",
      "0.1757019\n",
      "0.17570186\n",
      "0.17570181\n",
      "0.17570178\n",
      "0.17570178\n",
      "0.17570177\n",
      "0.17570177\n",
      "0.17570178\n",
      "0.17570177\n",
      "0.17570175\n",
      "0.17570171\n",
      "0.17570172\n",
      "0.17570175\n",
      "0.17570172\n",
      "0.17570174\n",
      "0.1757017\n",
      "0.17570174\n",
      "0.17570172\n",
      "0.17570172\n",
      "0.17570174\n",
      "0.17570172\n",
      "0.17570163\n",
      "0.17570166\n",
      "0.17570165\n",
      "0.1757017\n",
      "0.17570168\n"
     ]
    }
   ],
   "source": [
    "for e in range(100):\n",
    "    _, curr_loss = sess.run([optimizer, mean_loss], feed_dict = {inputs: training_data['inputs'], targets: training_data['target'] })\n",
    "    print (curr_loss)"
   ]
  },
  {
   "cell_type": "markdown",
   "metadata": {},
   "source": [
    "Plot the data"
   ]
  },
  {
   "cell_type": "code",
   "execution_count": 15,
   "metadata": {},
   "outputs": [
    {
     "data": {
      "image/png": "[encoded data removed]",
      "text/plain": [
       "<Figure size 432x288 with 1 Axes>"
      ]
     },
     "metadata": {},
     "output_type": "display_data"
    }
   ],
   "source": [
    "out = sess.run([outputs], feed_dict ={inputs : training_data['inputs']})\n",
    "\n",
    "plt.plot(np.squeeze(out), np.squeeze(training_data['target']))\n",
    "plt.xlabel('outputs')\n",
    "plt.ylabel('targets')\n",
    "plt.show()"
   ]
  }
 ],
 "metadata": {
  "kernelspec": {
   "display_name": "Python 3",
   "language": "python",
   "name": "python3"
  },
  "language_info": {
   "codemirror_mode": {
    "name": "ipython",
    "version": 3
   },
   "file_extension": ".py",
   "mimetype": "text/x-python",
   "name": "python",
   "nbconvert_exporter": "python",
   "pygments_lexer": "ipython3",
   "version": "3.6.5"
  }
 },
 "nbformat": 4,
 "nbformat_minor": 2
}
